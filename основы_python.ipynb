{
  "cells": [
    {
      "cell_type": "markdown",
      "metadata": {
        "id": "M-DGa20PaHnu"
      },
      "source": [
        "#Задача 1\n",
        "Написать функцию на вход которой подается строка, состоящая из латинских букв.\n",
        "Функция должна вернуть количество гласных букв (a, e, i, o, u) в этой строке. Написать тесты для кода"
      ]
    },
    {
      "cell_type": "code",
      "execution_count": 56,
      "metadata": {
        "id": "XvX8X_JJ6PCb"
      },
      "outputs": [],
      "source": [
        "# Your code goes here\n",
        "def countSymbols(word):\n",
        "    symbols = {'a': 0, 'e': 0, 'i': 0, 'o': 0, 'u': 0}\n",
        "    for sbl in symbols:\n",
        "        symbols[sbl] = word.count(sbl)\n",
        "    return symbols\n",
        "\n",
        "if __name__=='__main__':\n",
        "    assert countSymbols('First') == {'a': 0, 'e': 0, 'i': 1, 'o': 0, 'u': 0}\n",
        "    assert countSymbols('aeiou') == {'a': 1, 'e': 1, 'i': 1, 'o': 1, 'u': 1}\n",
        "    assert countSymbols('4pr1l') == {'a': 0, 'e': 0, 'i': 0, 'o': 0, 'u': 0}\n",
        "    assert countSymbols('') == {'a': 0, 'e': 0, 'i': 0, 'o': 0, 'u': 0}"
      ]
    },
    {
      "cell_type": "markdown",
      "metadata": {
        "id": "t2ClV_Y0bbr6"
      },
      "source": [
        "# Задача 2\n",
        "Написать функцию на вход, которой подается строка. Функция должна вернуть true, если\n",
        "каждый символ в строке встречается только 1 раз, иначе должна вернуть false. Написать тесты для кода"
      ]
    },
    {
      "cell_type": "code",
      "execution_count": 57,
      "metadata": {
        "id": "FppbECao6VIz"
      },
      "outputs": [],
      "source": [
        "# Your code goes here\n",
        "def isUnique(word):\n",
        "    return len(word)==len(set(word))\n",
        "\n",
        "if __name__=='__main__':\n",
        "    assert isUnique('') == True\n",
        "    assert isUnique('Hello') == False\n",
        "    assert isUnique('Cat') == True\n",
        "    assert isUnique('Try to catch it!') == False"
      ]
    },
    {
      "cell_type": "markdown",
      "metadata": {
        "id": "udRiIK1cdt6E"
      },
      "source": [
        "# Задача 3\n",
        "Написать функцию, которая принимает положительное число и возвращает количество\n",
        "бит равных 1 в этом числе. Написать тесты для кода"
      ]
    },
    {
      "cell_type": "code",
      "execution_count": 58,
      "metadata": {
        "id": "6tkfDJRz6dp_"
      },
      "outputs": [
        {
          "name": "stdout",
          "output_type": "stream",
          "text": [
            "0b0\n"
          ]
        }
      ],
      "source": [
        "# Your code goes here\n",
        "def countBit(number):\n",
        "    return bin(number).count('1') if number>0 else None\n",
        "\n",
        "if __name__=='__main__':\n",
        "    assert countBit(0) == None\n",
        "    assert countBit(1) == 1\n",
        "    assert countBit(15) == 4\n",
        "    assert countBit(100) == 3\n",
        "    assert countBit(1023) == 10\n",
        "    assert countBit(-2) == None\n",
        "    print(bin(0))"
      ]
    },
    {
      "cell_type": "markdown",
      "metadata": {
        "id": "26dDUz-Ae17N"
      },
      "source": [
        "# Задача 4\n",
        "Написать функцию, которая принимает положительное число. Функция должна вернуть то,\n",
        "сколько раз необходимо перемножать цифры числа или результат перемножения, чтобы\n",
        "получилось число состоящее из одной цифры.\n",
        "Например, для входного числа:\n",
        "· 39 функция должна вернуть 3, так как 3*9=27 => 2*7=14 => 1*4=4\n",
        "· 4 функция должна вернуть 0, так как число уже состоит из одной цифры\n",
        "· 999 функция должна вернуть 4, так как 9*9*9=729 => 7*2*9=126 => 1*2*6=12 =>\n",
        "1*2=2. Написать тесты для кода"
      ]
    },
    {
      "cell_type": "code",
      "execution_count": 59,
      "metadata": {
        "id": "BH1A_Mgi6i4G"
      },
      "outputs": [],
      "source": [
        "def magic(n, steps=0):\n",
        "    if n<=0: return\n",
        "\n",
        "    if n<10: return steps\n",
        "\n",
        "    nextStep = 1\n",
        "    steps+=1\n",
        "    for dig in str(n):\n",
        "        nextStep*= int(dig)\n",
        "    return magic(nextStep, steps)\n",
        "\n",
        "if __name__=='__main__':\n",
        "    assert magic(39) == 3\n",
        "    assert magic(4) == 0\n",
        "    assert magic(999) == 4"
      ]
    },
    {
      "cell_type": "markdown",
      "metadata": {
        "id": "0nS-kIa8g8vd"
      },
      "source": [
        "# Задача 5\n",
        "Написать функцию, которая принимает два целочисленных вектора одинаковой длины и\n",
        "возвращает среднеквадратическое отклонение двух векторов. Написать тесты для кода"
      ]
    },
    {
      "cell_type": "code",
      "execution_count": 60,
      "metadata": {
        "id": "8iphx4LM6xbx"
      },
      "outputs": [],
      "source": [
        "def mse(v1, v2):\n",
        "    # Your code goes here\n",
        "    if len(v1) != len(v2):\n",
        "        return\n",
        "    \n",
        "    sum_of_squares = sum((a - b) ** 2 for a, b in zip(v1, v2)) / len(v1)\n",
        "    return sum_of_squares ** 0.5\n",
        "\n",
        "if __name__=='__main__':\n",
        "    assert mse([1, 2, 3], [4, 5, 6]) == 3.0\n",
        "    assert mse([10, 20, 30], [10, 20, 30]) == 0\n",
        "    assert mse([0, 0, 0], [1, 1, 1]) == 1.0 "
      ]
    },
    {
      "cell_type": "markdown",
      "metadata": {
        "id": "vpIPKL439zkw"
      },
      "source": [
        "# Задача 6\n",
        "Написать функцию, принимающая целое положительное число. Функция должна вернуть\n",
        "строку вида “(n1**p1)(n2**p2)…(nk**pk)” представляющая разложение числа на простые\n",
        "множители (если pi == 1, то выводить только ni).\n",
        "Например, для числа 86240 функция должна вернуть “(2**5)(5)(7**2)(11)”. Написать тесты для кода"
      ]
    },
    {
      "cell_type": "code",
      "execution_count": 61,
      "metadata": {
        "id": "pFebmcZk94Jw"
      },
      "outputs": [],
      "source": [
        "# Your code goes here\n",
        "def prime_factorization(n):\n",
        "    def prime_factors(n):\n",
        "        i = 2\n",
        "        factors = []\n",
        "        while i * i <= n:\n",
        "            if n % i:\n",
        "                i += 1\n",
        "            else:\n",
        "                n //= i\n",
        "                factors.append(i)\n",
        "        if n > 1:\n",
        "            factors.append(n)\n",
        "        return factors\n",
        "\n",
        "    factors = prime_factors(n)\n",
        "    factor_dict = {}\n",
        "    for factor in factors:\n",
        "        if factor in factor_dict:\n",
        "            factor_dict[factor] += 1\n",
        "        else:\n",
        "            factor_dict[factor] = 1\n",
        "\n",
        "    result = []\n",
        "    for factor, power in factor_dict.items():\n",
        "        if power == 1:\n",
        "            result.append(f\"({factor})\")\n",
        "        elif power > 1:\n",
        "            result.append(f\"({factor}**{power})\")\n",
        "\n",
        "    return \"\".join(result)\n",
        "\n",
        "if __name__=='__main__':\n",
        "    assert prime_factorization(86240) == \"(2**5)(5)(7**2)(11)\"\n",
        "    assert prime_factorization(1) == \"\"\n",
        "    assert prime_factorization(2) == \"(2)\"\n",
        "    assert prime_factorization(100) == \"(2**2)(5**2)\"\n",
        "    assert prime_factorization(13) == \"(13)\""
      ]
    },
    {
      "cell_type": "markdown",
      "metadata": {
        "id": "ps2s0BudX7A2"
      },
      "source": [
        "# Задача 7\n",
        "Написать функцию, принимающая целое число n, задающее количество кубиков. Функция\n",
        "должна определить, можно ли из данного кол-ва кубиков построить пирамиду, то есть\n",
        "можно ли представить число n как 1^2+2^2+3^2+…+k^2. Если можно, то функция должна\n",
        "вернуть k, иначе строку “It is impossible”. Написать тесты для кода"
      ]
    },
    {
      "cell_type": "code",
      "execution_count": 62,
      "metadata": {
        "id": "3YPjEXxhX_YT"
      },
      "outputs": [],
      "source": [
        "def pyramid(n):\n",
        "    # Your code goes here\n",
        "    sum_of_squares = 0\n",
        "    k = 1\n",
        "    \n",
        "    while sum_of_squares < n:\n",
        "        sum_of_squares += k ** 2\n",
        "        k += 1\n",
        "    \n",
        "    if sum_of_squares == n:\n",
        "        return k - 1\n",
        "    else:\n",
        "        return \"It is impossible\"\n",
        "    \n",
        "if __name__==\"__main__\":\n",
        "    assert pyramid(0) == 0\n",
        "    assert pyramid(1) == 1\n",
        "    assert pyramid(5) == 2\n",
        "    assert pyramid(14) == 3\n",
        "    assert pyramid(30) == 4\n",
        "    assert pyramid(55) == 5\n",
        "    assert pyramid(6) == \"It is impossible\""
      ]
    },
    {
      "cell_type": "markdown",
      "metadata": {
        "id": "KeKgmIdAQMEJ"
      },
      "source": [
        "# Задача 8\n",
        "Функция принимает на вход положительное число и определяет является ли оно сбалансированным, т.е. сумма цифр до средних равна сумме цифр после. Средними в случае нечетного числа цифр считать одну цифру, в случае четного - две средних. Написать тесты для кода"
      ]
    },
    {
      "cell_type": "code",
      "execution_count": 63,
      "metadata": {
        "id": "gMAAqtqlQrZt"
      },
      "outputs": [],
      "source": [
        "# Your code goes here\n",
        "def isBalanced(n):\n",
        "    str_n = str(n)\n",
        "    num_digits = len(str_n)\n",
        "    if num_digits <=2: return\n",
        "    if num_digits%2==1:\n",
        "        sum_before = sum(int(digit) for digit in str_n[:num_digits//2])\n",
        "        sum_after = sum(int(digit) for digit in str_n[num_digits//2:]) # 5//2 - 5%2 = 1   6//2 = 3\n",
        "    else:\n",
        "        sum_before = sum(int(digit) for digit in str_n[:(num_digits // 2) - 1])\n",
        "        sum_after = sum(int(digit) for digit in str_n[(num_digits // 2) + 1:])\n",
        "    return sum_before == sum_after\n",
        "\n",
        "if __name__ == '__main__':\n",
        "    assert isBalanced(543127)\n",
        "    assert isBalanced(123543) == False\n",
        "    assert isBalanced(123) == False\n",
        "    assert isBalanced(1) == None\n",
        "    assert isBalanced(11) == None"
      ]
    }
  ],
  "metadata": {
    "colab": {
      "provenance": []
    },
    "kernelspec": {
      "display_name": "Python 3",
      "name": "python3"
    },
    "language_info": {
      "codemirror_mode": {
        "name": "ipython",
        "version": 3
      },
      "file_extension": ".py",
      "mimetype": "text/x-python",
      "name": "python",
      "nbconvert_exporter": "python",
      "pygments_lexer": "ipython3",
      "version": "3.11.2"
    }
  },
  "nbformat": 4,
  "nbformat_minor": 0
}
